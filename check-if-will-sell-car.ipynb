{
 "metadata": {
  "language_info": {
   "codemirror_mode": {
    "name": "ipython",
    "version": 3
   },
   "file_extension": ".py",
   "mimetype": "text/x-python",
   "name": "python",
   "nbconvert_exporter": "python",
   "pygments_lexer": "ipython3",
   "version": "3.8.5"
  },
  "orig_nbformat": 4,
  "kernelspec": {
   "name": "python3",
   "display_name": "Python 3.8.5 64-bit"
  },
  "interpreter": {
   "hash": "31f2aee4e71d21fbe5cf8b01ff0e069b9275f58929596ceb00d14d90e3e16cd6"
  }
 },
 "nbformat": 4,
 "nbformat_minor": 2,
 "cells": [
  {
   "cell_type": "code",
   "execution_count": 21,
   "metadata": {},
   "outputs": [
    {
     "output_type": "execute_result",
     "data": {
      "text/plain": [
       "   Unnamed: 0  mileage_per_year  model_year      price sold\n",
       "0           0             21801        2000   30941.02  yes\n",
       "1           1              7843        1998   40557.96  yes\n",
       "2           2              7109        2006   89627.50   no\n",
       "3           3             26823        2015   95276.14   no\n",
       "4           4              7935        2014  117384.68  yes"
      ],
      "text/html": "<div>\n<style scoped>\n    .dataframe tbody tr th:only-of-type {\n        vertical-align: middle;\n    }\n\n    .dataframe tbody tr th {\n        vertical-align: top;\n    }\n\n    .dataframe thead th {\n        text-align: right;\n    }\n</style>\n<table border=\"1\" class=\"dataframe\">\n  <thead>\n    <tr style=\"text-align: right;\">\n      <th></th>\n      <th>Unnamed: 0</th>\n      <th>mileage_per_year</th>\n      <th>model_year</th>\n      <th>price</th>\n      <th>sold</th>\n    </tr>\n  </thead>\n  <tbody>\n    <tr>\n      <th>0</th>\n      <td>0</td>\n      <td>21801</td>\n      <td>2000</td>\n      <td>30941.02</td>\n      <td>yes</td>\n    </tr>\n    <tr>\n      <th>1</th>\n      <td>1</td>\n      <td>7843</td>\n      <td>1998</td>\n      <td>40557.96</td>\n      <td>yes</td>\n    </tr>\n    <tr>\n      <th>2</th>\n      <td>2</td>\n      <td>7109</td>\n      <td>2006</td>\n      <td>89627.50</td>\n      <td>no</td>\n    </tr>\n    <tr>\n      <th>3</th>\n      <td>3</td>\n      <td>26823</td>\n      <td>2015</td>\n      <td>95276.14</td>\n      <td>no</td>\n    </tr>\n    <tr>\n      <th>4</th>\n      <td>4</td>\n      <td>7935</td>\n      <td>2014</td>\n      <td>117384.68</td>\n      <td>yes</td>\n    </tr>\n  </tbody>\n</table>\n</div>"
     },
     "metadata": {},
     "execution_count": 21
    }
   ],
   "source": [
    "import pandas as pd \n",
    "\n",
    "data_frame = pd.read_csv('./assets/car-selling-history.csv')\n",
    "\n",
    "data_frame.head()"
   ]
  },
  {
   "cell_type": "code",
   "execution_count": 22,
   "metadata": {},
   "outputs": [
    {
     "output_type": "execute_result",
     "data": {
      "text/plain": [
       "   Unnamed: 0  mileage_per_year  model_year      price  sold\n",
       "0           0             21801        2000   30941.02     1\n",
       "1           1              7843        1998   40557.96     1\n",
       "2           2              7109        2006   89627.50     0\n",
       "3           3             26823        2015   95276.14     0\n",
       "4           4              7935        2014  117384.68     1"
      ],
      "text/html": "<div>\n<style scoped>\n    .dataframe tbody tr th:only-of-type {\n        vertical-align: middle;\n    }\n\n    .dataframe tbody tr th {\n        vertical-align: top;\n    }\n\n    .dataframe thead th {\n        text-align: right;\n    }\n</style>\n<table border=\"1\" class=\"dataframe\">\n  <thead>\n    <tr style=\"text-align: right;\">\n      <th></th>\n      <th>Unnamed: 0</th>\n      <th>mileage_per_year</th>\n      <th>model_year</th>\n      <th>price</th>\n      <th>sold</th>\n    </tr>\n  </thead>\n  <tbody>\n    <tr>\n      <th>0</th>\n      <td>0</td>\n      <td>21801</td>\n      <td>2000</td>\n      <td>30941.02</td>\n      <td>1</td>\n    </tr>\n    <tr>\n      <th>1</th>\n      <td>1</td>\n      <td>7843</td>\n      <td>1998</td>\n      <td>40557.96</td>\n      <td>1</td>\n    </tr>\n    <tr>\n      <th>2</th>\n      <td>2</td>\n      <td>7109</td>\n      <td>2006</td>\n      <td>89627.50</td>\n      <td>0</td>\n    </tr>\n    <tr>\n      <th>3</th>\n      <td>3</td>\n      <td>26823</td>\n      <td>2015</td>\n      <td>95276.14</td>\n      <td>0</td>\n    </tr>\n    <tr>\n      <th>4</th>\n      <td>4</td>\n      <td>7935</td>\n      <td>2014</td>\n      <td>117384.68</td>\n      <td>1</td>\n    </tr>\n  </tbody>\n</table>\n</div>"
     },
     "metadata": {},
     "execution_count": 22
    }
   ],
   "source": [
    "change_to_binary = {\n",
    "    'no': 0,\n",
    "    'yes': 1\n",
    "}\n",
    "\n",
    "data_frame.sold = data_frame.sold.map(change_to_binary)\n",
    "\n",
    "data_frame.head()\n"
   ]
  },
  {
   "cell_type": "code",
   "execution_count": 23,
   "metadata": {},
   "outputs": [
    {
     "output_type": "execute_result",
     "data": {
      "text/plain": [
       "   Unnamed: 0  mileage_per_year  model_year      price  sold  car_age\n",
       "0           0             21801        2000   30941.02     1       21\n",
       "1           1              7843        1998   40557.96     1       23\n",
       "2           2              7109        2006   89627.50     0       15\n",
       "3           3             26823        2015   95276.14     0        6\n",
       "4           4              7935        2014  117384.68     1        7"
      ],
      "text/html": "<div>\n<style scoped>\n    .dataframe tbody tr th:only-of-type {\n        vertical-align: middle;\n    }\n\n    .dataframe tbody tr th {\n        vertical-align: top;\n    }\n\n    .dataframe thead th {\n        text-align: right;\n    }\n</style>\n<table border=\"1\" class=\"dataframe\">\n  <thead>\n    <tr style=\"text-align: right;\">\n      <th></th>\n      <th>Unnamed: 0</th>\n      <th>mileage_per_year</th>\n      <th>model_year</th>\n      <th>price</th>\n      <th>sold</th>\n      <th>car_age</th>\n    </tr>\n  </thead>\n  <tbody>\n    <tr>\n      <th>0</th>\n      <td>0</td>\n      <td>21801</td>\n      <td>2000</td>\n      <td>30941.02</td>\n      <td>1</td>\n      <td>21</td>\n    </tr>\n    <tr>\n      <th>1</th>\n      <td>1</td>\n      <td>7843</td>\n      <td>1998</td>\n      <td>40557.96</td>\n      <td>1</td>\n      <td>23</td>\n    </tr>\n    <tr>\n      <th>2</th>\n      <td>2</td>\n      <td>7109</td>\n      <td>2006</td>\n      <td>89627.50</td>\n      <td>0</td>\n      <td>15</td>\n    </tr>\n    <tr>\n      <th>3</th>\n      <td>3</td>\n      <td>26823</td>\n      <td>2015</td>\n      <td>95276.14</td>\n      <td>0</td>\n      <td>6</td>\n    </tr>\n    <tr>\n      <th>4</th>\n      <td>4</td>\n      <td>7935</td>\n      <td>2014</td>\n      <td>117384.68</td>\n      <td>1</td>\n      <td>7</td>\n    </tr>\n  </tbody>\n</table>\n</div>"
     },
     "metadata": {},
     "execution_count": 23
    }
   ],
   "source": [
    "from datetime import datetime\n",
    "\n",
    "data_frame['car_age'] = datetime.today().year - data_frame.model_year\n",
    "data_frame.head()"
   ]
  },
  {
   "cell_type": "code",
   "execution_count": 24,
   "metadata": {},
   "outputs": [
    {
     "output_type": "execute_result",
     "data": {
      "text/plain": [
       "   Unnamed: 0  mileage_per_year  model_year      price  sold  car_age  \\\n",
       "0           0             21801        2000   30941.02     1       21   \n",
       "1           1              7843        1998   40557.96     1       23   \n",
       "2           2              7109        2006   89627.50     0       15   \n",
       "3           3             26823        2015   95276.14     0        6   \n",
       "4           4              7935        2014  117384.68     1        7   \n",
       "\n",
       "   km_per_year  \n",
       "0  35085.22134  \n",
       "1  12622.05362  \n",
       "2  11440.79806  \n",
       "3  43167.32682  \n",
       "4  12770.11290  "
      ],
      "text/html": "<div>\n<style scoped>\n    .dataframe tbody tr th:only-of-type {\n        vertical-align: middle;\n    }\n\n    .dataframe tbody tr th {\n        vertical-align: top;\n    }\n\n    .dataframe thead th {\n        text-align: right;\n    }\n</style>\n<table border=\"1\" class=\"dataframe\">\n  <thead>\n    <tr style=\"text-align: right;\">\n      <th></th>\n      <th>Unnamed: 0</th>\n      <th>mileage_per_year</th>\n      <th>model_year</th>\n      <th>price</th>\n      <th>sold</th>\n      <th>car_age</th>\n      <th>km_per_year</th>\n    </tr>\n  </thead>\n  <tbody>\n    <tr>\n      <th>0</th>\n      <td>0</td>\n      <td>21801</td>\n      <td>2000</td>\n      <td>30941.02</td>\n      <td>1</td>\n      <td>21</td>\n      <td>35085.22134</td>\n    </tr>\n    <tr>\n      <th>1</th>\n      <td>1</td>\n      <td>7843</td>\n      <td>1998</td>\n      <td>40557.96</td>\n      <td>1</td>\n      <td>23</td>\n      <td>12622.05362</td>\n    </tr>\n    <tr>\n      <th>2</th>\n      <td>2</td>\n      <td>7109</td>\n      <td>2006</td>\n      <td>89627.50</td>\n      <td>0</td>\n      <td>15</td>\n      <td>11440.79806</td>\n    </tr>\n    <tr>\n      <th>3</th>\n      <td>3</td>\n      <td>26823</td>\n      <td>2015</td>\n      <td>95276.14</td>\n      <td>0</td>\n      <td>6</td>\n      <td>43167.32682</td>\n    </tr>\n    <tr>\n      <th>4</th>\n      <td>4</td>\n      <td>7935</td>\n      <td>2014</td>\n      <td>117384.68</td>\n      <td>1</td>\n      <td>7</td>\n      <td>12770.11290</td>\n    </tr>\n  </tbody>\n</table>\n</div>"
     },
     "metadata": {},
     "execution_count": 24
    }
   ],
   "source": [
    "data_frame['km_per_year'] = data_frame.mileage_per_year * 1.60934\n",
    "\n",
    "data_frame.head()"
   ]
  },
  {
   "cell_type": "code",
   "execution_count": 25,
   "metadata": {},
   "outputs": [
    {
     "output_type": "execute_result",
     "data": {
      "text/plain": [
       "       price  sold  car_age  km_per_year\n",
       "0   30941.02     1       21  35085.22134\n",
       "1   40557.96     1       23  12622.05362\n",
       "2   89627.50     0       15  11440.79806\n",
       "3   95276.14     0        6  43167.32682\n",
       "4  117384.68     1        7  12770.11290"
      ],
      "text/html": "<div>\n<style scoped>\n    .dataframe tbody tr th:only-of-type {\n        vertical-align: middle;\n    }\n\n    .dataframe tbody tr th {\n        vertical-align: top;\n    }\n\n    .dataframe thead th {\n        text-align: right;\n    }\n</style>\n<table border=\"1\" class=\"dataframe\">\n  <thead>\n    <tr style=\"text-align: right;\">\n      <th></th>\n      <th>price</th>\n      <th>sold</th>\n      <th>car_age</th>\n      <th>km_per_year</th>\n    </tr>\n  </thead>\n  <tbody>\n    <tr>\n      <th>0</th>\n      <td>30941.02</td>\n      <td>1</td>\n      <td>21</td>\n      <td>35085.22134</td>\n    </tr>\n    <tr>\n      <th>1</th>\n      <td>40557.96</td>\n      <td>1</td>\n      <td>23</td>\n      <td>12622.05362</td>\n    </tr>\n    <tr>\n      <th>2</th>\n      <td>89627.50</td>\n      <td>0</td>\n      <td>15</td>\n      <td>11440.79806</td>\n    </tr>\n    <tr>\n      <th>3</th>\n      <td>95276.14</td>\n      <td>0</td>\n      <td>6</td>\n      <td>43167.32682</td>\n    </tr>\n    <tr>\n      <th>4</th>\n      <td>117384.68</td>\n      <td>1</td>\n      <td>7</td>\n      <td>12770.11290</td>\n    </tr>\n  </tbody>\n</table>\n</div>"
     },
     "metadata": {},
     "execution_count": 25
    }
   ],
   "source": [
    "data_frame = data_frame.drop(columns = [\"Unnamed: 0\", \"mileage_per_year\", \"model_year\"] )\n",
    "\n",
    "data_frame.head()"
   ]
  },
  {
   "cell_type": "code",
   "execution_count": 26,
   "metadata": {},
   "outputs": [],
   "source": [
    "describers = data_frame[[\"price\", \"car_age\", \"km_per_year\"]]\n",
    "results = data_frame[\"sold\"]\n",
    "\n"
   ]
  },
  {
   "cell_type": "code",
   "execution_count": 27,
   "metadata": {},
   "outputs": [
    {
     "output_type": "stream",
     "name": "stdout",
     "text": [
      "We ll train with 7500 elements e test it with 2500 elements\n"
     ]
    }
   ],
   "source": [
    "from sklearn.model_selection import train_test_split\n",
    "from sklearn.svm import LinearSVC\n",
    "from sklearn.metrics import accuracy_score\n",
    "\n",
    "SEED = 5\n",
    "\n",
    "describers_train, describers_test, results_train, results_test = train_test_split(describers, results, test_size=0.25, stratify=results)\n",
    "\n",
    "print(\"We ll train with %d elements e test it with %d elements\" % (len(describers_train), len(describers_test)))\n"
   ]
  },
  {
   "cell_type": "code",
   "execution_count": 51,
   "metadata": {},
   "outputs": [
    {
     "output_type": "stream",
     "name": "stdout",
     "text": [
      "The accuracy 0.62%\n",
      "/home/delimanicolas/.local/lib/python3.8/site-packages/sklearn/svm/_base.py:985: ConvergenceWarning: Liblinear failed to converge, increase the number of iterations.\n",
      "  warnings.warn(\"Liblinear failed to converge, increase \"\n"
     ]
    }
   ],
   "source": [
    "model = LinearSVC()\n",
    "model.fit(describers_train, results_train)\n",
    "\n",
    "predictions = model.predict(describers_test)\n",
    "\n",
    "accuracy = accuracy_score(results_test, predictions)\n",
    "\n",
    "print(\"The accuracy %.2f%%\" % accuracy)"
   ]
  },
  {
   "cell_type": "code",
   "execution_count": null,
   "metadata": {},
   "outputs": [],
   "source": []
  }
 ]
}