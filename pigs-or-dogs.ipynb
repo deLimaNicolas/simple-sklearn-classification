{
 "metadata": {
  "language_info": {
   "codemirror_mode": {
    "name": "ipython",
    "version": 3
   },
   "file_extension": ".py",
   "mimetype": "text/x-python",
   "name": "python",
   "nbconvert_exporter": "python",
   "pygments_lexer": "ipython3",
   "version": "3.8.5"
  },
  "orig_nbformat": 4,
  "kernelspec": {
   "name": "python3",
   "display_name": "Python 3.8.5 64-bit"
  },
  "interpreter": {
   "hash": "916dbcbb3f70747c44a77c7bcd40155683ae19c65e1c03b4aa3499c5328201f1"
  }
 },
 "nbformat": 4,
 "nbformat_minor": 2,
 "cells": [
  {
   "cell_type": "code",
   "execution_count": 26,
   "metadata": {},
   "outputs": [],
   "source": [
    "pig1 = [0,1,0]\n",
    "pig2 = [0,1,1]\n",
    "pig3 = [1,1,0]\n",
    "\n",
    "dog1 = [0,1,1]\n",
    "dog2 = [1,0,1]\n",
    "dog3 = [1,1,1]\n",
    "\n",
    "data = [pig1, pig2, pig3, dog1, dog2, dog3]\n",
    "classes = [1,1,1,0,0,0] # dog is 0 and pig is 1"
   ]
  },
  {
   "cell_type": "code",
   "execution_count": 27,
   "metadata": {},
   "outputs": [],
   "source": [
    "from sklearn.svm import LinearSVC\n",
    "from sklearn.metrics import accuracy_score\n",
    "\n",
    "model = LinearSVC()\n",
    "model.fit(data, classes)\n",
    "\n",
    "not_known_animal1 = [1, 1, 1] #dog\n",
    "not_known_animal2 = [1, 1, 0] #pig\n",
    "not_known_animal3 = [0, 1, 1] #pig\n",
    "\n",
    "tests = [not_known_animal1, not_known_animal2, not_known_animal3]\n",
    "\n",
    "predictions = model.predict(tests)"
   ]
  },
  {
   "cell_type": "code",
   "execution_count": 30,
   "metadata": {},
   "outputs": [
    {
     "output_type": "stream",
     "name": "stdout",
     "text": [
      "0.6666666666666666\n"
     ]
    }
   ],
   "source": [
    "accuracy = accuracy_score([0, 1, 1], predictions)\n",
    "\n",
    "print(accuracy * 100)"
   ]
  },
  {
   "cell_type": "code",
   "execution_count": null,
   "metadata": {},
   "outputs": [],
   "source": []
  }
 ]
}